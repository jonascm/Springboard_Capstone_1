{
 "cells": [
  {
   "cell_type": "markdown",
   "metadata": {},
   "source": [
    "# Generating virtual users\n",
    "\n",
    "Using the papers I will list later, here's a simple model to generate artificial reviews for the recommender system I want to implement\n",
    "\n",
    "The parameters are:\n",
    "\n",
    "  *  Age\n",
    "  *  Wealth percent\n",
    " \n",
    " \n",
    "If you are in an age range or in a wealth range you are likely to spend a different amount of money on your hotel. If you chose a hotel under or over your economic standards, the rating you'll give goes down. The idea is: if the hotel is too cheap, bad. If it's more expensive than what you wanted to spend, also bad. I will use the following tables to decide the ideal hotel price for each category"
   ]
  },
  {
   "cell_type": "code",
   "execution_count": 192,
   "metadata": {},
   "outputs": [],
   "source": [
    "import pandas as pd\n",
    "import numpy as np\n",
    "import seaborn as sns\n",
    "\n",
    "wealth_IHP = np.array([100, 150, 200, 400, 800]) #as youare in the lowest 20% of the population, 20 to 40, and so on to 100%\n",
    "age_IHP = np.array([480, 1030, 1500, 1800, 1900, 1200])*0.23*0.5 #for U25, 25-34, 35-44, 45-54, 55-64 or over65 years old\n"
   ]
  },
  {
   "cell_type": "markdown",
   "metadata": {},
   "source": [
    "For each of the 4000 users I will create, I will assign a wealth range following a normal distribution, an age following a uniform distribution, and from there I want to pick some hotels he may have chosen for the Ideal Hotel Price associated to him/her.\n",
    "\n",
    "I compute the IHP as the mean between wealth_IHP and age_IHP of the user's age and wealth.\n",
    "\n",
    "To select the hotels, I have already assigned a number of ratings to make. I associate a probability distribution to pick hotels that has a triangular shape, starts from fminIHP to fmaxIHP, with fmin and fmax tuned to cover the whole price span, and the maximum at IHP. Hotels with no price information will be assigned to the lowest wealth percentiles by default (they are usually associated to cheaper hotels)\n",
    "\n",
    "Let's start by creating the pdf:"
   ]
  },
  {
   "cell_type": "code",
   "execution_count": 193,
   "metadata": {},
   "outputs": [],
   "source": [
    "import scipy.stats as st\n",
    "\n",
    "class my_pdf(st.rv_continuous):\n",
    "    def _pdf(self,x, ihp):\n",
    "        # this is a density, so we want the triangle only...\n",
    "        # there are two options: I pass a list of a number for x... if x is a number, so is ihp. \n",
    "        # but if x is a list, ihp could be a float\n",
    "        fmin = 0.2375 \n",
    "        fmax = 2.0\n",
    "        \n",
    "        if isinstance(x, (int, float, complex)):\n",
    "            # I just need to calcualte one prob\n",
    "            h = 2/((fmax-fmin)*ihp)\n",
    "            if x > fmax*ihp or x < fmin*ihp:\n",
    "                prob = 0\n",
    "            else:\n",
    "                if x<=ihp:\n",
    "                    prob = max((x-ihp*fmin)*h/(ihp*(1-fmin)),0)\n",
    "                else:\n",
    "                    prob= max((x-ihp*fmax)*h/(ihp*(1-fmax)),0)\n",
    "            # end of ihp,x are floats\n",
    "        else:\n",
    "            # then we have vectors, we need to use indices\n",
    "            if isinstance(ihp, (int, float, complex)):\n",
    "                ihp = [ihp, ihp]\n",
    "            \n",
    "            h = 2/((fmax-fmin)*ihp[0])\n",
    "            prob = x.copy()\n",
    "            \n",
    "            for i in range(len(x)):\n",
    "                # if outside the limits, 0\n",
    "                if x[i] > fmax*ihp[0] or x[i] < fmin*ihp[0]:\n",
    "                    prob[i] = 0\n",
    "                else:\n",
    "                    if x[i]<=ihp[i]:\n",
    "                        prob[i] = max((x[i]-ihp[0]*fmin)*h/(ihp[0]*(1-fmin)),0)\n",
    "                    else:\n",
    "                        prob[i]= max((x[i]-ihp[0]*fmax)*h/(ihp[0]*(1-fmax)),0)\n",
    "            # end of x,ihp are lists\n",
    "        return prob\n",
    "\n",
    "\n",
    "my_cv = my_pdf(a=0, b=1000, name='ihp_pdf')"
   ]
  },
  {
   "cell_type": "code",
   "execution_count": 194,
   "metadata": {},
   "outputs": [
    {
     "data": {
      "image/png": "[encoded data removed]",
      "text/plain": [
       "<matplotlib.figure.Figure at 0x7f0d7eba5a20>"
      ]
     },
     "metadata": {},
     "output_type": "display_data"
    },
    {
     "name": "stdout",
     "output_type": "stream",
     "text": [
      "Integral of the pdf =  0.9999999866582301\n"
     ]
    },
    {
     "data": {
      "image/png": "[encoded data removed]",
      "text/plain": [
       "<matplotlib.figure.Figure at 0x7f0d7eb1df60>"
      ]
     },
     "metadata": {},
     "output_type": "display_data"
    }
   ],
   "source": [
    "import matplotlib.pyplot as plt\n",
    "\n",
    "ihp_calc = 300\n",
    "\n",
    "x = np.linspace(0, 1000, 5000)\n",
    "y = my_cv.pdf(x, ihp_calc)\n",
    "plt.plot(x, y)\n",
    "plt.title('PDF of hotel selection')\n",
    "plt.xlabel('Price USD')\n",
    "plt.show()\n",
    "\n",
    "# make sure it integrates to 1\n",
    "from scipy.integrate import simps\n",
    "I1 = simps(y, x)\n",
    "print('Integral of the pdf = ', I1)\n",
    "\n",
    "# to generate random numbers:\n",
    "samples = my_cv.rvs(size=100,ihp=ihp_calc)\n",
    "plt.hist(samples, bins=25)\n",
    "plt.xlim([0,1000])\n",
    "plt.ylabel('Number of samples')\n",
    "plt.xlabel('Price USD')\n",
    "plt.title('Some random samples')\n",
    "plt.show()"
   ]
  },
  {
   "cell_type": "markdown",
   "metadata": {},
   "source": [
    "Now we are ready to generate the samples. This is the idea:\n",
    "\n",
    "1. for every user, chose a wealth percentile and an age\n",
    "2. from those, find the Ideal Hotel Price from the model\n",
    "3. choose a price from the distribution, and a hotel from the list that is about that price: that's what we will rate\n",
    "\n",
    "To rate a hotel, we define a simple equation:\n",
    "\n",
    "overall_rating = round(mean rate + f(distance to IHP) + weak white noise)\n",
    "\n",
    "Assume the following:\n",
    " * if distance to IHP < 50\\$, f = 0\n",
    " * if 50\\$ < distance to IHP < 100\\$, f = -1\n",
    " * if 100\\$ < distance to IHP, f = -2\n",
    " * white noise < 1.5\n",
    " * max(overall_rating) = 5.0\n",
    " \n",
    "Lt's give it a shot..."
   ]
  },
  {
   "cell_type": "code",
   "execution_count": null,
   "metadata": {},
   "outputs": [
    {
     "name": "stderr",
     "output_type": "stream",
     "text": [
      "/home/jonas/anaconda3/lib/python3.6/site-packages/ipykernel_launcher.py:47: SettingWithCopyWarning: \n",
      "A value is trying to be set on a copy of a slice from a DataFrame.\n",
      "Try using .loc[row_indexer,col_indexer] = value instead\n",
      "\n",
      "See the caveats in the documentation: http://pandas.pydata.org/pandas-docs/stable/indexing.html#indexing-view-versus-copy\n",
      "/home/jonas/anaconda3/lib/python3.6/site-packages/pandas/core/indexing.py:194: SettingWithCopyWarning: \n",
      "A value is trying to be set on a copy of a slice from a DataFrame\n",
      "\n",
      "See the caveats in the documentation: http://pandas.pydata.org/pandas-docs/stable/indexing.html#indexing-view-versus-copy\n",
      "  self._setitem_with_indexer(indexer, value)\n",
      "/home/jonas/anaconda3/lib/python3.6/site-packages/scipy/integrate/quadpack.py:364: IntegrationWarning: The occurrence of roundoff error is detected, which prevents \n",
      "  the requested tolerance from being achieved.  The error may be \n",
      "  underestimated.\n",
      "  warnings.warn(msg, IntegrationWarning)\n"
     ]
    }
   ],
   "source": [
    "hotellist = pd.read_csv('Hotels_clean_merged_normalizedreviews.csv')\n",
    "\n",
    "usrs = []\n",
    "usrsage = []\n",
    "usrswealth = []\n",
    "usrsihp = []\n",
    "hotelnames = []\n",
    "hotelprices = []\n",
    "hoteloriginalmeanrating = []\n",
    "ratings = []\n",
    "\n",
    "for usr in range(2000):\n",
    "    # pick $$ and age fo usr\n",
    "    s = np.random.normal(0, 1, 1)\n",
    "    \n",
    "    if s<-0.85:\n",
    "        ihp_usr_wealth = wealth_IHP[0] # lowest 20% of economic power\n",
    "    if s>=-0.85 and s<-0.26:\n",
    "        ihp_usr_wealth = wealth_IHP[1] # 20% to 40% of economic power\n",
    "    if s>=-0.26 and s<0.26:\n",
    "        ihp_usr_wealth = wealth_IHP[2] # 40% to 60% of economic power\n",
    "    if s>=0.26 and s<0.85:\n",
    "        ihp_usr_wealth = wealth_IHP[3] # 60% to 80% of economic power\n",
    "    if s>=0.85:\n",
    "        ihp_usr_wealth = wealth_IHP[4] # top 20% of economic power\n",
    "    \n",
    "    t = np.random.randint(6, size=1)\n",
    "    ihp_usr_age = age_IHP[t]\n",
    "    \n",
    "    # IHP for this user\n",
    "    ihp_usr = 0.5*ihp_usr_wealth + 0.5* ihp_usr_age\n",
    "    \n",
    "\n",
    "    # how many ratings will this fella do? At least one tho\n",
    "    numofratings = np.random.randint(9, size=1)+1\n",
    "    # choose hotel prices\n",
    "    prices_for_usr = my_cv.rvs(size=numofratings,ihp=ihp_usr)\n",
    "    \n",
    "    # for each of those prices, simply look for the closest hotel in price\n",
    "    # I want hotels that have not reached the correct number of ratings...\n",
    "    # generate a rating for that hotel as established by the formula\n",
    "    \n",
    "    for price in prices_for_usr:\n",
    "        # has reviews pending\n",
    "        hotelshortlist = hotellist[hotellist['nr_norm'] > 0]\n",
    "        # within price range\n",
    "        hotelshortlist['pricedif'] = abs(hotelshortlist['price']-price)\n",
    "        hotelshortlist = hotelshortlist.sort_values(by=['pricedif'], ascending=True)\n",
    "        \n",
    "        # if not empty\n",
    "        if not hotelshortlist.empty:\n",
    "            # create rating!\n",
    "            distancetoihp = hotelshortlist.iloc[0].price - ihp_usr\n",
    "            \n",
    "            if abs(distancetoihp)<50:\n",
    "                f = 0\n",
    "            else:\n",
    "                if distancetoihp<250 or distancetoihp>-100:\n",
    "                    f = -0.70\n",
    "                else:\n",
    "                    f = -1.3\n",
    "            # NOW:\n",
    "            rating_i_usr = np.round(float(hotelshortlist.iloc[0].overall_ratingsource + f + 1.0*np.random.rand(1)))\n",
    "            if rating_i_usr>5.0:\n",
    "                rating_i_usr = 5.0\n",
    "            if rating_i_usr<1.0:\n",
    "                rating_i_usr = 1.0\n",
    "            \n",
    "            # reduce the number of suggested ratings\n",
    "            index_to_reduce_nrnorm = hotellist[hotellist['hotel_name'] == hotelshortlist.hotel_name.iloc[0]].index\n",
    "            hotellist.nr_norm.iloc[index_to_reduce_nrnorm] = hotellist.nr_norm.iloc[index_to_reduce_nrnorm]-1.0\n",
    "            \n",
    "            # append everyhing to the lists\n",
    "            usrs.append(usr)\n",
    "            hotelnames.append(hotelshortlist.iloc[0].hotel_name)\n",
    "            ratings.append(rating_i_usr)\n",
    "            usrsage.append(float(t))\n",
    "            usrswealth.append(float(s))\n",
    "            usrsihp.append(float(ihp_usr))\n",
    "            hotelprices.append(hotelshortlist.iloc[0].price)\n",
    "            hoteloriginalmeanrating.append(hotelshortlist.iloc[0].overall_ratingsource)\n",
    "        \n",
    "        # if the shortlist is empty, ignore all...\n",
    "    # now, all the prices are selected... for good or for bad\n",
    "    \n",
    "# here, all users have been implemented. Now I'd like to make a datframe out of the ratings\n",
    "# and display it (for now)\n",
    "\n",
    "generated_ratings_1 = pd.DataFrame(\n",
    "    {'user_id': usrs,\n",
    "     'user_age': usrsage,\n",
    "     'user_wealth': usrswealth,\n",
    "     'user_ihp':usrsihp,\n",
    "     'hotel_name': hotelnames,\n",
    "     'hotel_price': hotelprices,\n",
    "     'hotel_original_rating': hoteloriginalmeanrating,\n",
    "     'ratings': ratings\n",
    "    })\n",
    "generated_ratings_1.to_csv('generated_ratings_1.csv')\n",
    "print('Total number of reviews', generated_ratings_1.shape[0])"
   ]
  },
  {
   "cell_type": "markdown",
   "metadata": {},
   "source": [
    "We want to make some stats to be sure we are not perturbing the data too much...\n",
    "\n",
    "However, what if we do? There's no problem in that, it's just that the data it's made up, so it doesn't reflect reality (yet). When on deployment, the users data will be real, so the recommender system will work better, right? Right??\n",
    "\n",
    "All I care is that even the means are not accurate, the trends need to be: higher price <-> higher rating"
   ]
  },
  {
   "cell_type": "code",
   "execution_count": 196,
   "metadata": {},
   "outputs": [
    {
     "data": {
      "image/png": "[encoded data removed]",
      "text/plain": [
       "<matplotlib.figure.Figure at 0x7f0d7eb61cf8>"
      ]
     },
     "metadata": {},
     "output_type": "display_data"
    }
   ],
   "source": [
    "sns.scatterplot(x='hotel_price', y='ratings', data=generated_ratings_1)\n",
    "plt.show()"
   ]
  },
  {
   "cell_type": "markdown",
   "metadata": {},
   "source": [
    "Apart from that, I want to look at how many less nr_norm are there...\n",
    "\n",
    "So I want to find all hotellist that nr_norm = 0...\n",
    "\n",
    "Also, I want to aaverage the hotel ratings and compare with the original averages... can we do that?"
   ]
  },
  {
   "cell_type": "code",
   "execution_count": 197,
   "metadata": {},
   "outputs": [
    {
     "name": "stdout",
     "output_type": "stream",
     "text": [
      "Hotels fully evaluated:  831\n",
      "Hotels with missing reviews:  2\n"
     ]
    }
   ],
   "source": [
    "print('Hotels fully evaluated: ', hotellist[hotellist['nr_norm']==0].shape[0])\n",
    "print('Hotels with missing reviews: ', hotellist[hotellist['nr_norm']!=0].shape[0])"
   ]
  },
  {
   "cell_type": "code",
   "execution_count": 198,
   "metadata": {},
   "outputs": [
    {
     "data": {
      "image/png": "[encoded data removed]",
      "text/plain": [
       "<matplotlib.figure.Figure at 0x7f0d7eaf2ef0>"
      ]
     },
     "metadata": {},
     "output_type": "display_data"
    }
   ],
   "source": [
    "rat_compare = generated_ratings_1.groupby(['hotel_name']).mean()\n",
    "rat_compare = rat_compare[['ratings', 'hotel_original_rating']]\n",
    "rat_compare['diff'] = rat_compare['ratings'] - rat_compare['hotel_original_rating']\n",
    "\n",
    "sns.distplot(rat_compare['diff'])\n",
    "plt.show()"
   ]
  },
  {
   "cell_type": "markdown",
   "metadata": {},
   "source": [
    "Ideally we want this to be a normal centered at 0, with the smallest std possible. If we had a delta on 0 it's be perfect...\n",
    "\n",
    "I'd like to know the mean and std, to see how much we overrate the hotels"
   ]
  },
  {
   "cell_type": "code",
   "execution_count": 199,
   "metadata": {},
   "outputs": [
    {
     "name": "stdout",
     "output_type": "stream",
     "text": [
      "MEAN: -0.381399715082259\n",
      "STD: 0.5164714116247494\n"
     ]
    }
   ],
   "source": [
    "print('MEAN:', rat_compare['diff'].mean())\n",
    "print('STD:', rat_compare['diff'].std())"
   ]
  },
  {
   "cell_type": "markdown",
   "metadata": {},
   "source": [
    "This means that we are not too far off from the actual means... I will take it as good for now"
   ]
  }
 ],
 "metadata": {
  "kernelspec": {
   "display_name": "Python 3",
   "language": "python",
   "name": "python3"
  },
  "language_info": {
   "codemirror_mode": {
    "name": "ipython",
    "version": 3
   },
   "file_extension": ".py",
   "mimetype": "text/x-python",
   "name": "python",
   "nbconvert_exporter": "python",
   "pygments_lexer": "ipython3",
   "version": "3.6.4"
  }
 },
 "nbformat": 4,
 "nbformat_minor": 2
}
